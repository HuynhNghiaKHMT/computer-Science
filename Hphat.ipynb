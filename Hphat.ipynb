{
 "cells": [
  {
   "cell_type": "code",
   "execution_count": 8,
   "metadata": {},
   "outputs": [
    {
     "name": "stdout",
     "output_type": "stream",
     "text": [
      "Accuracy: 0.6121773659827928\n"
     ]
    }
   ],
   "source": [
    "import os\n",
    "import cv2\n",
    "import numpy as np\n",
    "from sklearn.decomposition import PCA\n",
    "from sklearn.neighbors import KNeighborsClassifier\n",
    "from sklearn.model_selection import train_test_split\n",
    "from sklearn.metrics import accuracy_score\n",
    "\n",
    "# Đường dẫn đến thư mục chứa hình ảnh với khẩu trang\n",
    "images_with_mask_dir = \"D:\\\\A_STUDY_SPECIAL\\\\computer_vision\\\\important\\\\data\\\\with_mask\"\n",
    "\n",
    "# Đường dẫn đến thư mục chứa hình ảnh không có khẩu trang\n",
    "images_without_mask_dir = \"D:\\\\A_STUDY_SPECIAL\\\\computer_vision\\\\important\\\\data\\\\without_mask\"\n",
    "\n",
    "# Hàm để đọc và chuẩn bị dữ liệu hình ảnh\n",
    "def load_images(directory):\n",
    "    images = []\n",
    "    labels = []\n",
    "    for filename in os.listdir(directory):\n",
    "        if filename.endswith(\".jpg\") :\n",
    "            img = cv2.imread(os.path.join(directory, filename), cv2.IMREAD_GRAYSCALE)\n",
    "            img = cv2.resize(img, (100, 100))  # Resize hình ảnh về kích thước 100x100\n",
    "            images.append(img.flatten())  # Flatten hình ảnh thành một mảng 1 chiều\n",
    "            labels.append(directory.split(\"\\\\\")[-1])  # Nhãn là tên thư mục\n",
    "    return images, labels\n",
    "\n",
    "# Đọc hình ảnh và nhãn từ cả hai thư mục\n",
    "images_with_mask, labels_with_mask = load_images(images_with_mask_dir)\n",
    "images_without_mask, labels_without_mask = load_images(images_without_mask_dir)\n",
    "\n",
    "# Gộp dữ liệu từ hai lớp vào một mảng duy nhất\n",
    "X = np.vstack((images_with_mask, images_without_mask))\n",
    "y = np.hstack((labels_with_mask, labels_without_mask))\n",
    "\n",
    "# Phân chia dữ liệu thành tập huấn luyện và tập kiểm tra\n",
    "X_train, X_test, y_train, y_test = train_test_split(X, y, test_size=0.2, random_state=42)\n",
    "\n",
    "#X_train = X\n",
    "#y_train = y\n",
    "\n",
    "# Áp dụng PCA để giảm chiều dữ liệu\n",
    "pca = PCA(n_components=2)  # Chọn số thành phần chính\n",
    "X_train_pca = pca.fit_transform(X_train)\n",
    "X_test_pca = pca.transform(X_test)\n",
    "\n",
    "# Huấn luyện mô hình KNN trên dữ liệu giảm chiều\n",
    "knn = KNeighborsClassifier(n_neighbors=9) #, p=2, weights= 'distance')\n",
    "knn.fit(X_train_pca, y_train)\n",
    "\n",
    "# # Dự đoán trên tập kiểm tra và tính toán độ chính xác\n",
    "y_pred = knn.predict(X_test_pca)\n",
    "accuracy = accuracy_score(y_test, y_pred)\n",
    "print(\"Accuracy:\", accuracy)\n"
   ]
  },
  {
   "cell_type": "code",
   "execution_count": 7,
   "metadata": {},
   "outputs": [
    {
     "name": "stdout",
     "output_type": "stream",
     "text": [
      "Prediction: without_mask\n"
     ]
    }
   ],
   "source": [
    "import cv2\n",
    "\n",
    "# Đọc ảnh từ đường dẫn\n",
    "image_path = \"D:\\A_STUDY_SPECIAL\\computer_vision\\important\\Screenshot 2024-04-24 152559.png\"\n",
    "img = cv2.imread(image_path, cv2.IMREAD_GRAYSCALE)  # Đọc ảnh dưới dạng grayscale\n",
    "img = cv2.resize(img, (100, 100))  # Resize ảnh về kích thước 100x100\n",
    "\n",
    "# Flatten ảnh thành một mảng 1 chiều và áp dụng PCA\n",
    "img_flat = img.flatten()\n",
    "img_pca = pca.transform([img_flat])\n",
    "\n",
    "# Dự đoán bằng mô hình KNN\n",
    "prediction = knn.predict(img_pca)\n",
    "print(\"Prediction:\", prediction[0])\n"
   ]
  }
 ],
 "metadata": {
  "kernelspec": {
   "display_name": "Python 3",
   "language": "python",
   "name": "python3"
  },
  "language_info": {
   "codemirror_mode": {
    "name": "ipython",
    "version": 3
   },
   "file_extension": ".py",
   "mimetype": "text/x-python",
   "name": "python",
   "nbconvert_exporter": "python",
   "pygments_lexer": "ipython3",
   "version": "3.11.4"
  }
 },
 "nbformat": 4,
 "nbformat_minor": 2
}
